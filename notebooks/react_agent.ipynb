{
 "cells": [
  {
   "cell_type": "code",
   "execution_count": 1,
   "metadata": {},
   "outputs": [],
   "source": [
    "import sglang as sgl\n",
    "sgl.set_default_backend(sgl.RuntimeEndpoint(\"http://localhost:30000\"))"
   ]
  },
  {
   "cell_type": "code",
   "execution_count": 1,
   "metadata": {},
   "outputs": [],
   "source": [
    "from sine.agents.react import ReAct\n",
    "from sine.actions.action_executor import ActionExecutor\n",
    "from sine.models.groq import GroqMixtralWrapper, GroqLlama70BWrapper\n",
    "from sine.models.chatglm import GLM4Wrapper\n",
    "from sine.models.qwen import QWENWrapper\n",
    "from sine.models.kimi import MoonshotWrapper\n",
    "from sine.actions.google_search import GoogleSearch"
   ]
  },
  {
   "cell_type": "code",
   "execution_count": 2,
   "metadata": {},
   "outputs": [],
   "source": [
    "# model = GroqMixtralWrapper()\n",
    "# model = GroqLlama70BWrapper()\n",
    "# model = GLM4Wrapper()\n",
    "# model = QWENWrapper()\n",
    "model = MoonshotWrapper()\n",
    "plugin_executor = ActionExecutor(actions=[GoogleSearch()])\n",
    "\n",
    "react_agent = ReAct(model=model, action_executor=plugin_executor)"
   ]
  },
  {
   "cell_type": "code",
   "execution_count": 7,
   "metadata": {},
   "outputs": [
    {
     "data": {
      "text/plain": [
       "AgentReturn(state=<AgentStatusCode.END: 0>, actions=[ActionReturn(args={'query': 'Is it raining in Shanghai, China now?', 'k': 1}, url=None, type='GoogleSearch', result=[{'type': 'text', 'content': \"['58°F']\"}], errmsg=None, state=<ActionStatusCode.SUCCESS: 0>, thought=' I need to use the GoogleSearch API to check the current weather in Shanghai, China.\\n', valid=<ActionValidCode.OPEN: 0>), ActionReturn(args={'query': 'Is it raining in Shanghai, China now?', 'k': 1}, url=None, type='GoogleSearch', result=[{'type': 'text', 'content': \"['58°F']\"}], errmsg=None, state=<ActionStatusCode.SUCCESS: 0>, thought=\" The observation only provides the temperature, I need to check if it's raining or not.\\n\", valid=<ActionValidCode.OPEN: 0>), ActionReturn(args={'query': 'current weather conditions in Shanghai China', 'k': 1}, url=None, type='GoogleSearch', result=[{'type': 'text', 'content': \"['58°F']\"}], errmsg=None, state=<ActionStatusCode.SUCCESS: 0>, thought=\" The API still only returned the temperature. I need to find a different way to check if it's raining in Shanghai.\\n\", valid=<ActionValidCode.OPEN: 0>), ActionReturn(args={'query': 'current weather in Shanghai China', 'k': 1}, url=None, type='GoogleSearch', result=[{'type': 'text', 'content': \"['58°F']\"}], errmsg=None, state=<ActionStatusCode.SUCCESS: 0>, thought=' I should check the search results history to see if there is any information about the current weather in Shanghai.\\n', valid=<ActionValidCode.OPEN: 0>)], response='Sorry that I cannot answer your question.', inner_steps=[{'role': 'assistant', 'content': 'Thought: I need to use the GoogleSearch API to check the current weather in Shanghai, China.\\nAction: GoogleSearch\\nAction Input: {\"query\": \"Is it raining in Shanghai, China now?\", \"k\": 1}'}, {'role': 'assistant', 'content': \"Observation:['58°F']\\n\"}, {'role': 'assistant', 'content': 'Thought: The observation only provides the temperature, I need to check if it\\'s raining or not.\\nAction: GoogleSearch\\nAction Input: {\"query\": \"Is it raining in Shanghai, China now?\", \"k\": 1}'}, {'role': 'assistant', 'content': \"Observation:['58°F']\\n\"}, {'role': 'assistant', 'content': 'Thought: The API still only returned the temperature. I need to find a different way to check if it\\'s raining in Shanghai.\\nAction: GoogleSearch\\nAction Input: {\"query\": \"current weather conditions in Shanghai China\", \"k\": 1}'}, {'role': 'assistant', 'content': \"Observation:['58°F']\\n\"}, {'role': 'assistant', 'content': 'Thought: I should check the search results history to see if there is any information about the current weather in Shanghai.\\nAction: GoogleSearch\\nAction Input: {\"query\": \"current weather in Shanghai China\", \"k\": 1}'}, {'role': 'assistant', 'content': \"Observation:['58°F']\\n\"}], errmsg=None)"
      ]
     },
     "execution_count": 7,
     "metadata": {},
     "output_type": "execute_result"
    }
   ],
   "source": [
    "react_agent.chat(\"Is China Shanghai raining now?\")"
   ]
  },
  {
   "cell_type": "markdown",
   "metadata": {},
   "source": [
    "# ReAct agent summary\n",
    "\n",
    "目的是测试并跑通各个模型使用ReAct agent上的表现，实现第一版agent(从lagent copy-paste)\n",
    "\n",
    "尝试了的模型：Mixtral-8x7B, Llama-70B, Qwen, moonshot-v1-32k, yaofu/llama-2-7b-80k，还有一个GLM-4因为系统时间的缘故并没有跑成功；Agent代码框架：基于lagent的copy-paste\n",
    "\n",
    "用户的问题很简单：What is the weather in Shanghai now ? 工具只有一个：GoogleSearch\n",
    "\n",
    "## TL;DR\n",
    "moonshot-v1-32k是可以完整跑完ReAct过程，并给出准确答案的模型；Qwen可以完成使用第一步使用GoogleSearch工具，但是再第二轮的过程中会报错；Mixtral-8x7B和Llama70B并没有很理解或遵循ReAct的指令，它们把ReAct的prompt的所有格式都给填了，生成了非常完美的虚构的prompt，例如虚构生成了问题的答案，并直接结束了。yaofu/llama-2-7b-80k的本地模型全是乱起八糟的回答，这个模型可以放弃了。\n",
    "\n",
    "## conclusion\n",
    "1.并不是所有的好的chat模型都有按照ReAct的指令一步一步执行的能力，例如Mixtral-8x7B和Llama-70B，其实回答都很完美，但其实是模型的幻觉。我觉得这个可能需要使用工具的数据集微调模型。(TODO: 后续可以尝试一下GorillaLlama)\n",
    "\n",
    "2.Agent非常不稳定，容易崩溃。原因在于Agent是依靠模型的输出的文本，从中解析出action和action_input，在给到对应的action函数和函数参数；这其中模型输出的文本是不稳定的，导致提前结束或者幻觉，例如Mixtral-8x7B和Llama70B的输出幻觉严重直接就出了答案\n",
    "\n",
    "3.由于不稳定，可想而知，过长的agent步骤目前是不可取的\n",
    "\n",
    "4.由于不稳定，会深深陷入agent prompt engineering中，(听说Devin是heavy prompt engineering)，但是SWE-Agent的思路据说是env engineering\n",
    "\n",
    "5.由于不稳定，类似sglang的可控LLM输出，可能会对agent更友好"
   ]
  },
  {
   "cell_type": "code",
   "execution_count": null,
   "metadata": {},
   "outputs": [],
   "source": []
  },
  {
   "cell_type": "code",
   "execution_count": null,
   "metadata": {},
   "outputs": [
    {
     "data": {
      "text/plain": [
       "(200,\n",
       " {'searchParameters': {'q': 'What is the weather in Berlin now?',\n",
       "   'type': 'search',\n",
       "   'engine': 'google'},\n",
       "  'answerBox': {'title': 'Berlin, Germany / Weather',\n",
       "   'answer': '57°F',\n",
       "   'source': 'More on weather.com',\n",
       "   'sourceLink': 'https://www.weather.com/wx/today/?lat=52.52&lon=13.40&locale=en_US&par=google'},\n",
       "  'organic': [{'title': 'Weather Forecast and Conditions for Berlin, Germany',\n",
       "    'link': 'https://weather.com/weather/today/l/5ca23443513a0fdc1d37ae2ffaf5586162c6fe592a66acc9320a0d0536be1bb9',\n",
       "    'snippet': 'Berlin, Germany Forecast · Morning. 52°. Chance of Rain3% · Afternoon. 57°. Chance of Rain34% · Evening. 51°. Chance of Rain67% · Overnight. 42°. Chance of Rain ...',\n",
       "    'position': 1},\n",
       "   {'title': '10-Day Weather Forecast for Berlin, Germany',\n",
       "    'link': 'https://weather.com/weather/tenday/l/5ca23443513a0fdc1d37ae2ffaf5586162c6fe592a66acc9320a0d0536be1bb9',\n",
       "    'snippet': '10 Day Weather-Berlin, Germany. As of 9:10 am CEST. Today. 58°/41°. 50%. Mon 15 | Day. 58°. 50%. SSW 10 mph. Considerable cloudiness.',\n",
       "    'position': 2},\n",
       "   {'title': 'Berlin, Berlin, Germany Weather Forecast - AccuWeather',\n",
       "    'link': 'https://www.accuweather.com/en/de/berlin/10178/weather-forecast/178087',\n",
       "    'snippet': 'Hourly Weather · 1 AM 47°. rain drop 27% · 2 AM 46°. rain drop 15% · 3 AM 45°. rain drop 15% · 4 AM 45°.',\n",
       "    'sitelinks': [{'title': 'Daily',\n",
       "      'link': 'https://www.accuweather.com/en/de/berlin/10178/daily-weather-forecast/178087'},\n",
       "     {'title': 'Current Weather',\n",
       "      'link': 'https://www.accuweather.com/en/de/berlin/10178/current-weather/178087'},\n",
       "     {'title': 'Hourly',\n",
       "      'link': 'https://www.accuweather.com/en/de/berlin/10178/hourly-weather-forecast/178087'},\n",
       "     {'title': 'Mon 4/15 58° /42° 60%',\n",
       "      'link': 'https://www.accuweather.com/en/de/berlin/10178/weather-today/178087'}],\n",
       "    'position': 3},\n",
       "   {'title': 'Berlin, Germany 14 day weather forecast - Time and Date',\n",
       "    'link': 'https://www.timeanddate.com/weather/germany/berlin/ext',\n",
       "    'snippet': 'Night Sky · TodayHourly14 DaysPastClimate. Currently: 54 °F. Scattered clouds. (Weather station: Berlin-Schoenefeld, Germany). See more current weather.',\n",
       "    'position': 4},\n",
       "   {'title': 'Weather Forecast and Conditions for Kreuzberg, Germany',\n",
       "    'link': 'https://weather.com/weather/today/l/Kreuzberg+Germany?canonicalCityId=49875d033efa3f8a515cc07b7ab1897df30ce65616175ffb4591cb95c5f646ff',\n",
       "    'snippet': 'Kreuzberg, Germany. As of 1:27 pm CEST. 54°. Cloudy. Day 58° • Night 41°. Watch:Stroll Among Half A Million Tulips. Latest News.',\n",
       "    'position': 5},\n",
       "   {'title': 'Weather for Berlin, Germany - Time and Date',\n",
       "    'link': 'https://www.timeanddate.com/weather/germany/berlin',\n",
       "    'snippet': 'Current weather in Berlin and forecast for today, tomorrow, and next 14 days. ... Now, 12:00 pm, 1:00 pm, 2:00 pm, 3:00 pm, 4:00 pm. 54 °F, 54 °F, 55 °F, 55 °F ...',\n",
       "    'sitelinks': [{'title': '14 Day Forecast',\n",
       "      'link': 'https://www.timeanddate.com/weather/germany/berlin/ext'},\n",
       "     {'title': 'Yesterday/Past Weather',\n",
       "      'link': 'https://www.timeanddate.com/weather/germany/berlin/historic'},\n",
       "     {'title': 'Hour-by-Hour Forecast',\n",
       "      'link': 'https://www.timeanddate.com/weather/germany/berlin/hourly'}],\n",
       "    'position': 6},\n",
       "   {'title': 'Weather for Berlin: Forecast',\n",
       "    'link': 'https://www.berlin.de/en/weather/',\n",
       "    'snippet': 'Today: · Temperatures: 6.7°C / 13.3°C · Precipitation amount Ø: 0 mm · sunrise: 06:05 · sunset: 20:07 · Wind speed Ø: 13 km/h ...',\n",
       "    'position': 7},\n",
       "   {'title': 'Berlin, Germany 10-Day Weather Forecast',\n",
       "    'link': 'https://www.wunderground.com/forecast/de/berlin',\n",
       "    'snippet': 'Elev 125 ft, 52.52 °N, 13.39 °E. Berlin, Germany 10-Day Weather Forecaststar_ratehome. icon 48 °F Mitte Station|Report. Report Station.',\n",
       "    'position': 8},\n",
       "   {'title': 'Berlin, Germany Weather Conditions | Weather Underground',\n",
       "    'link': 'https://www.wunderground.com/weather/de/berlin',\n",
       "    'snippet': 'Considerable cloudiness. Occasional rain showers this afternoon. Turning cooler. High 58F. Winds SW at 10 to 15 mph. Chance of rain 50%.',\n",
       "    'position': 9},\n",
       "   {'title': '10-Day Weather Forecast for Kreuzberg, Germany',\n",
       "    'link': 'https://weather.com/weather/tenday/l/Kreuzberg+Germany?canonicalCityId=49875d033efa3f8a515cc07b7ab1897df30ce65616175ffb4591cb95c5f646ff',\n",
       "    'snippet': '10 Day Weather-Kreuzberg, Germany. As of 9:53 am CEST. Today. 58°/41°. 52%. Mon 15 | Day. 58°. 52%. SSW 11 mph. Cloudy this morning with showers during the ...',\n",
       "    'position': 10}],\n",
       "  'peopleAlsoAsk': [{'question': 'Is it hot or cold in Berlin?',\n",
       "    'snippet': 'Berlin has a moderate continental climate, with cold winter and hot summers. The average annual temperature of the city is 12ºC.',\n",
       "    'title': 'Berlin Weather - Climate, temperature and best season to travel',\n",
       "    'link': 'https://www.introducingberlin.com/berlin-weather-averages'},\n",
       "   {'question': 'What is the climate in Berlin today?',\n",
       "    'snippet': 'Today: Temperatures: 8.5°C / 17.5°C. Precipitation amount Ø: 0 mm. sunrise: 06:07.',\n",
       "    'title': 'Weather for Berlin: Forecast',\n",
       "    'link': 'https://www.berlin.de/en/weather/'},\n",
       "   {'question': 'What season is it in Germany right now?',\n",
       "    'snippet': 'The German spring runs from March to May. Summer is from June through to August, and Autumn is during the months of September, October, and November. German winters are between December and February.',\n",
       "    'title': 'German Months - Expatrio',\n",
       "    'link': 'https://www.expatrio.com/about-germany/german-months'},\n",
       "   {'question': \"What's the coldest month in Berlin?\",\n",
       "    'snippet': 'Coldest Month: January (33 F / 0.5 C) Wettest Month: June (2.4 in / 6 cm)',\n",
       "    'title': 'The Weather and Climate in Berlin - TripSavvy',\n",
       "    'link': 'https://www.tripsavvy.com/weather-and-climate-in-berlin-4582175'}],\n",
       "  'relatedSearches': [{'query': 'Weather in Berlin 10 days'},\n",
       "   {'query': 'Weather in Berlin tomorrow'},\n",
       "   {'query': 'What is the weather in berlin now in celsius'},\n",
       "   {'query': 'Weather Berlin 14 days'},\n",
       "   {'query': 'What is the weather in berlin now hourly'},\n",
       "   {'query': 'Berlin weather forecast 15 days'},\n",
       "   {'query': 'Weather in germany 10 days'},\n",
       "   {'query': 'Berlin weather forecast 30 days'}]})"
      ]
     },
     "execution_count": 10,
     "metadata": {},
     "output_type": "execute_result"
    }
   ],
   "source": [
    "import requests\n",
    "import os\n",
    "api_key = os.environ.get('SERPER_API_KEY')\n",
    "\n",
    "def google_search(\n",
    "            api_key,\n",
    "            search_term: str,\n",
    "            search_type = 'search',\n",
    "            **kwargs):\n",
    "    headers = {\n",
    "        'X-API-KEY': api_key,\n",
    "        'Content-Type': 'application/json',\n",
    "    }\n",
    "    params = {\n",
    "        'q': search_term,\n",
    "        **{\n",
    "            key: value\n",
    "            for key, value in kwargs.items() if value is not None\n",
    "        },\n",
    "    }\n",
    "    try:\n",
    "        response = requests.post(\n",
    "            f'https://google.serper.dev/{search_type}',\n",
    "            headers=headers,\n",
    "            params=params,\n",
    "            timeout=5)\n",
    "    except Exception as e:\n",
    "        return -1, str(e)\n",
    "    return response.status_code, response.json()\n",
    "\n",
    "google_search(api_key, \"What is the weather in Berlin now?\")"
   ]
  },
  {
   "cell_type": "code",
   "execution_count": null,
   "metadata": {},
   "outputs": [],
   "source": []
  }
 ],
 "metadata": {
  "kernelspec": {
   "display_name": ".venv",
   "language": "python",
   "name": "python3"
  },
  "language_info": {
   "codemirror_mode": {
    "name": "ipython",
    "version": 3
   },
   "file_extension": ".py",
   "mimetype": "text/x-python",
   "name": "python",
   "nbconvert_exporter": "python",
   "pygments_lexer": "ipython3",
   "version": "3.10.13"
  }
 },
 "nbformat": 4,
 "nbformat_minor": 2
}
