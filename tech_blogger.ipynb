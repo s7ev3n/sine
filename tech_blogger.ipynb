{
 "cells": [
  {
   "cell_type": "markdown",
   "metadata": {},
   "source": [
    "Historical View: Trace the origin and evolution of the technology or concept.\n",
    "\n",
    "Theoretical View: Discuss the foundational theories and principles.\n",
    "\n",
    "Practical View: Explore real-world applications and implementations.\n",
    "\n",
    "Technical View: Dive into the technical details, including architecture and design.\n",
    "\n",
    "Comparative View: Compare and contrast with similar or alternative solutions.\n",
    "\n",
    "Future View: Predict future trends and potential advancements.\n",
    "\n",
    "Problem-Solution View: Identify common challenges and propose solutions.\n",
    "\n",
    "User Perspective: Consider the technology from the end-user's or developer's point of view.\n",
    "\n",
    "Case Study View: Provide detailed analysis of specific projects or scenarios.\n",
    "\n",
    "Educational View: Offer insights on effective ways to teach or learn the technology."
   ]
  },
  {
   "cell_type": "code",
   "execution_count": 1,
   "metadata": {},
   "outputs": [],
   "source": [
    "from sine.models.api_model import APIModel"
   ]
  },
  {
   "cell_type": "code",
   "execution_count": 2,
   "metadata": {},
   "outputs": [],
   "source": [
    "model_name = \"llama3-70b-8192\"\n",
    "model = APIModel(model_name)"
   ]
  },
  {
   "cell_type": "code",
   "execution_count": 5,
   "metadata": {},
   "outputs": [],
   "source": [
    "ASK_QUESTION=\"\"\"You are excellent tech article writer and want to write an article. \n",
    "Besides your identity as tech article writer, you have specific focus when writing the topic.\n",
    "Now, you are chatting with an expert to get information. Ask good questions to get more useful information.\n",
    "When you have no more question to ask, say \"Thank you so much for your help!\" to end the conversation.\n",
    "Please only ask a question at a time and don't ask what you have asked before. Your questions should be related to the topic you want to write.\n",
    "Topic you are going to write: {topic}\n",
    "Your focus being a tech writer: {focus}\"\"\""
   ]
  },
  {
   "cell_type": "code",
   "execution_count": 3,
   "metadata": {},
   "outputs": [],
   "source": [
    "focus_technical=\"\"\"I focus on Technical Stuff. Given the topic my foucs is to dive deep into the technical details, including architecture, design patterns, and implementation strategies.\"\"\"\n"
   ]
  },
  {
   "cell_type": "code",
   "execution_count": 7,
   "metadata": {},
   "outputs": [
    {
     "name": "stdout",
     "output_type": "stream",
     "text": [
      "I'm excited to write an article about Python unittest. \n",
      "\n",
      "Let's dive into the technical details. Can you explain the architecture behind Python's unittest framework, specifically how it supports test discovery, test running, and test reporting?\n"
     ]
    }
   ],
   "source": [
    "topic_of_interest = \"I want to know python unitest\"\n",
    "\n",
    "message = [\n",
    "    dict(role=\"user\", content=ASK_QUESTION.format(topic=topic_of_interest, focus=focus_technical))]\n",
    "\n",
    "response = model.chat(message)\n",
    "\n",
    "print(response)"
   ]
  },
  {
   "cell_type": "code",
   "execution_count": null,
   "metadata": {},
   "outputs": [],
   "source": []
  }
 ],
 "metadata": {
  "kernelspec": {
   "display_name": ".venv",
   "language": "python",
   "name": "python3"
  },
  "language_info": {
   "codemirror_mode": {
    "name": "ipython",
    "version": 3
   },
   "file_extension": ".py",
   "mimetype": "text/x-python",
   "name": "python",
   "nbconvert_exporter": "python",
   "pygments_lexer": "ipython3",
   "version": "3.10.13"
  }
 },
 "nbformat": 4,
 "nbformat_minor": 2
}
