{
 "cells": [
  {
   "cell_type": "markdown",
   "metadata": {},
   "source": [
    "Historical View: Trace the origin and evolution of the technology or concept.\n",
    "\n",
    "Theoretical View: Discuss the foundational theories and principles.\n",
    "\n",
    "Practical View: Explore real-world applications and implementations.\n",
    "\n",
    "Technical View: Dive into the technical details, including architecture and design.\n",
    "\n",
    "Comparative View: Compare and contrast with similar or alternative solutions.\n",
    "\n",
    "Future View: Predict future trends and potential advancements.\n",
    "\n",
    "Problem-Solution View: Identify common challenges and propose solutions.\n",
    "\n",
    "User Perspective: Consider the technology from the end-user's or developer's point of view.\n",
    "\n",
    "Case Study View: Provide detailed analysis of specific projects or scenarios.\n",
    "\n",
    "Educational View: Offer insights on effective ways to teach or learn the technology."
   ]
  },
  {
   "cell_type": "code",
   "execution_count": 3,
   "metadata": {},
   "outputs": [],
   "source": [
    "from sine.models.api_model import APIModel"
   ]
  },
  {
   "cell_type": "code",
   "execution_count": 4,
   "metadata": {},
   "outputs": [],
   "source": [
    "model_name = \"llama3-70b-8192\"\n",
    "model = APIModel(model_name)"
   ]
  },
  {
   "cell_type": "code",
   "execution_count": 5,
   "metadata": {},
   "outputs": [],
   "source": [
    "ASK_QUESTION=\"\"\"You are excellent tech article writer and want to write an article. \n",
    "Besides your identity as tech article writer, you have specific focus when writing the topic.\n",
    "Now, you are chatting with an expert to get information. Ask good questions to get more useful information.\n",
    "When you have no more question to ask, say \"Thank you so much for your help!\" to end the conversation.\n",
    "Please only ask a question at a time and don't ask what you have asked before. \n",
    "Your questions should be related to the topic you want to write.\n",
    "\n",
    "Topic you are going to write: {topic}\n",
    "Your focus being a tech writer: {focus}\"\"\""
   ]
  },
  {
   "cell_type": "code",
   "execution_count": 6,
   "metadata": {},
   "outputs": [],
   "source": [
    "focus_technical=\"\"\"I focus on Technical Stuff. Given the topic my foucs is to dive deep into the technical details, including architecture, design patterns, and implementation strategies.\"\"\"\n"
   ]
  },
  {
   "cell_type": "code",
   "execution_count": 8,
   "metadata": {},
   "outputs": [
    {
     "name": "stdout",
     "output_type": "stream",
     "text": [
      "I'm excited to dive deep into the technical aspects of Python unit testing.\n",
      "\n",
      "Here's my first question: What are the key differences between the built-in unittest module and third-party testing frameworks like Pytest, and when would you choose one over the other?\n"
     ]
    }
   ],
   "source": [
    "topic_of_interest = \"I want to know python unit test\"\n",
    "\n",
    "message = [\n",
    "    dict(role=\"user\", content=ASK_QUESTION.format(topic=topic_of_interest, focus=focus_technical))]\n",
    "\n",
    "question_str = model.chat(message)\n",
    "\n",
    "print(question_str)"
   ]
  },
  {
   "cell_type": "code",
   "execution_count": 11,
   "metadata": {},
   "outputs": [],
   "source": [
    "QGEN_SEARCH_QUERY = \"\"\"You want to answer the question using Google search. To answer the question, what do you type in the search box?\n",
    "Write the most important 5 queries you will use in the following format:\n",
    "- \"query 1\"\n",
    "- \"query 2\"\n",
    "...\n",
    "- \"query 5\"\n",
    "\n",
    "The question you are going to answer is : {question}\"\"\""
   ]
  },
  {
   "cell_type": "code",
   "execution_count": 13,
   "metadata": {},
   "outputs": [
    {
     "name": "stdout",
     "output_type": "stream",
     "text": [
      "Here are the top 5 search queries I would use to answer this question:\n",
      "\n",
      "- \"unittest vs pytest\"\n",
      "- \"python testing frameworks comparison\"\n",
      "- \"when to use unittest vs pytest\"\n",
      "- \"unittest vs pytest vs nose\"\n",
      "- \"python unit testing frameworks differences\"\n",
      "\n",
      "These queries should provide a good starting point to understand the differences between the built-in unittest module and third-party testing frameworks like Pytest, and help determine when to choose one over the other.\n",
      "['unittest vs pytest', 'python testing frameworks comparison', 'when to use unittest vs pytest', 'unittest vs pytest vs nose', 'python unit testing frameworks differences']\n"
     ]
    }
   ],
   "source": [
    "message = [dict(role=\"user\", content=QGEN_SEARCH_QUERY.format(question=question_str))]\n",
    "\n",
    "search_queries_raw = model.chat(message)\n",
    "\n",
    "print(search_queries_raw)\n",
    "\n",
    "import re\n",
    "matches = re.findall(r'- \"(.*)\"', search_queries_raw)\n",
    "queries = [match.strip() for match in matches]\n",
    "\n",
    "print(queries)"
   ]
  },
  {
   "cell_type": "code",
   "execution_count": null,
   "metadata": {},
   "outputs": [],
   "source": [
    "from sine.actions.google_search import GoogleSearch\n",
    "g_search = GoogleSearch()\n",
    "\n",
    "for q in queries:\n",
    "    res = g_search.run(query=q)\n",
    "    print(res.result)\n",
    "    break"
   ]
  }
 ],
 "metadata": {
  "kernelspec": {
   "display_name": ".venv",
   "language": "python",
   "name": "python3"
  },
  "language_info": {
   "codemirror_mode": {
    "name": "ipython",
    "version": 3
   },
   "file_extension": ".py",
   "mimetype": "text/x-python",
   "name": "python",
   "nbconvert_exporter": "python",
   "pygments_lexer": "ipython3",
   "version": "3.10.13"
  }
 },
 "nbformat": 4,
 "nbformat_minor": 2
}
